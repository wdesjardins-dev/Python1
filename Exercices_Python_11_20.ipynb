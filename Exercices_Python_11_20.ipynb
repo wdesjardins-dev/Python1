{
  "nbformat": 4,
  "nbformat_minor": 0,
  "metadata": {
    "colab": {
      "provenance": [],
      "authorship_tag": "ABX9TyMcB9jrjIzbUe7Yu2yZks47",
      "include_colab_link": true
    },
    "kernelspec": {
      "name": "python3",
      "display_name": "Python 3"
    },
    "language_info": {
      "name": "python"
    }
  },
  "cells": [
    {
      "cell_type": "markdown",
      "metadata": {
        "id": "view-in-github",
        "colab_type": "text"
      },
      "source": [
        "<a href=\"https://colab.research.google.com/github/wdesjardins-dev/Python1/blob/main/Exercices_Python_11_20.ipynb\" target=\"_parent\"><img src=\"https://colab.research.google.com/assets/colab-badge.svg\" alt=\"Open In Colab\"/></a>"
      ]
    },
    {
      "cell_type": "markdown",
      "source": [
        "#####**Question 11 : Multiplication**\n",
        "Objectif : lire un nombre et afficher ×10.\n",
        "\n",
        "- Étapes : n=int(input(...)); print(n*10).\n",
        "\n",
        "- Indice : * multiplie.\n",
        "\n",
        "- Attendu : si 4 → 40"
      ],
      "metadata": {
        "id": "9KPhjp4EkR93"
      }
    },
    {
      "cell_type": "code",
      "execution_count": null,
      "metadata": {
        "colab": {
          "base_uri": "https://localhost:8080/"
        },
        "id": "yOhVNZ2sj-Uz",
        "outputId": "d16f6330-0890-4790-e61e-8168fed72641"
      },
      "outputs": [
        {
          "output_type": "stream",
          "name": "stdout",
          "text": [
            "chiffre: 5\n",
            "50\n"
          ]
        }
      ],
      "source": [
        "# * = multiplicateur, evident\n",
        "\n",
        "x = int(input(\"chiffre: \")); print(x*10)"
      ]
    },
    {
      "cell_type": "markdown",
      "source": [
        "#####**Question 12 : Aire d’un rectangle**\n",
        "Objectif : lire largeur/hauteur et afficher L*H.\n",
        "\n",
        "- Étapes : L=int(input(...)); H=int(input(...)); print(L*H).\n",
        "\n",
        "- Indice : produit.\n",
        "\n",
        "- Attendu : 5 et 3 → 15\n"
      ],
      "metadata": {
        "id": "-9Eb6xxIktku"
      }
    },
    {
      "cell_type": "code",
      "source": [
        "L=int(input(\"\")); H=int(input(\"\"));\n",
        "print(L*H)"
      ],
      "metadata": {
        "colab": {
          "base_uri": "https://localhost:8080/"
        },
        "id": "IzCVx9_Rk1Tl",
        "outputId": "539aad53-a212-457e-c360-5c3d107b6bc7"
      },
      "execution_count": 1,
      "outputs": [
        {
          "output_type": "stream",
          "name": "stdout",
          "text": [
            "5\n",
            "4\n",
            "20\n"
          ]
        }
      ]
    },
    {
      "cell_type": "markdown",
      "source": [
        "#####**Question 13 : Concaténer texte**\n",
        "Objectif : afficher Bonjour, NOM !.\n",
        "\n",
        "- Étapes : nom=input(...); print(\"Bonjour, \" + nom + \"!\").\n",
        "\n",
        "- Indice : + colle des textes.\n",
        "\n",
        "- Attendu : Bonjour, Aya!"
      ],
      "metadata": {
        "id": "IP9IK1L5lkYU"
      }
    },
    {
      "cell_type": "code",
      "source": [
        "\n",
        "nom = input(\"Enter your name: \")\n",
        "print(\"Bonjour,\", nom, \"!\")"
      ],
      "metadata": {
        "colab": {
          "base_uri": "https://localhost:8080/"
        },
        "id": "wxf5rmAIls5c",
        "outputId": "5bd2ec04-e112-4d7d-ceb5-18894b652005"
      },
      "execution_count": null,
      "outputs": [
        {
          "output_type": "stream",
          "name": "stdout",
          "text": [
            "Enter your name: William\n",
            "Bonjour, William !\n"
          ]
        }
      ]
    },
    {
      "cell_type": "markdown",
      "source": [
        "#####**Question 14 : Longueur d’un mot**\n",
        "- Objectif : lire un mot et afficher sa longueur.\n",
        "\n",
        "- Étapes : mot=input(...); print(len(mot)).\n",
        "\n",
        "- Indice : len(...) donne la longueur.\n",
        "\n",
        "- Attendu : “chat” → 4"
      ],
      "metadata": {
        "id": "Ql1dsrl43xAU"
      }
    },
    {
      "cell_type": "code",
      "source": [
        "mot=input(\"\"); print(len(mot))"
      ],
      "metadata": {
        "colab": {
          "base_uri": "https://localhost:8080/"
        },
        "id": "pWmvn_e4Nh7U",
        "outputId": "b7c32034-2628-4cd7-af78-399ea89c979b"
      },
      "execution_count": 2,
      "outputs": [
        {
          "output_type": "stream",
          "name": "stdout",
          "text": [
            "animal\n",
            "6\n"
          ]
        }
      ]
    },
    {
      "cell_type": "markdown",
      "source": [
        "#####**Question 15 : Majuscules**\n",
        "- Objectif : lire un mot et l’afficher en MAJ.\n",
        "\n",
        "- Étapes : mot=input(...); print(mot.upper()).\n",
        "\n",
        "- Indice : .upper().\n",
        "\n",
        "- Attendu : “salut” → SALUT"
      ],
      "metadata": {
        "id": "bt_781beaGKS"
      }
    },
    {
      "cell_type": "code",
      "source": [
        "# Ajouter xxx.upper()\n",
        "\n",
        "mot=input(\"Mot: \"); print(mot.upper());"
      ],
      "metadata": {
        "colab": {
          "base_uri": "https://localhost:8080/"
        },
        "id": "UtZTjyT0aj4Y",
        "outputId": "ba5451fa-dc38-4c65-f5e1-642f241cf826"
      },
      "execution_count": 7,
      "outputs": [
        {
          "output_type": "stream",
          "name": "stdout",
          "text": [
            "Mot: Will\n",
            "WILL\n"
          ]
        }
      ]
    },
    {
      "cell_type": "markdown",
      "source": [
        "#####**Question 16 : Minuscules**\n",
        "- Objectif : lire et afficher en minuscules.\n",
        "\n",
        "- Étapes : .lower().\n",
        "\n",
        "- Indice : méthodes de chaîne.\n",
        "\n",
        "- Attendu : “BonJour” → bonjour"
      ],
      "metadata": {
        "id": "ZtRmHonka4yA"
      }
    },
    {
      "cell_type": "code",
      "source": [
        "# Ajouter xxx.lower()\n",
        "\n",
        "mot=input(\"Mot: \"); print(mot.lower())"
      ],
      "metadata": {
        "colab": {
          "base_uri": "https://localhost:8080/"
        },
        "id": "ZpLM3w7kbAxY",
        "outputId": "bbb2d3f8-9636-4a71-8b43-5d8dd6a5d830"
      },
      "execution_count": 9,
      "outputs": [
        {
          "output_type": "stream",
          "name": "stdout",
          "text": [
            "Mot: HELLO\n",
            "hello\n"
          ]
        }
      ]
    },
    {
      "cell_type": "markdown",
      "source": [
        "#####**Question 17 : Remplacer un caractère**\n",
        "- Objectif : remplacer “a” par “@”.\n",
        "\n",
        "- Étapes : s=input(...); print(s.replace(\"a\",\"@\")).\n",
        "\n",
        "- Indice : .replace(ancien, nouveau).\n",
        "\n",
        "- Attendu : “salade” → s@l@de"
      ],
      "metadata": {
        "id": "-0UYHwQxbSL6"
      }
    },
    {
      "cell_type": "code",
      "source": [
        "# Prend en consideration seulement les minuscules pour le changement en @\n",
        "\n",
        "x=input(\"\"); print(x.replace(\"a\",\"@\"))"
      ],
      "metadata": {
        "colab": {
          "base_uri": "https://localhost:8080/"
        },
        "id": "juYnHk77bZ-4",
        "outputId": "313ec478-8b11-4742-fc82-1841b7d40289"
      },
      "execution_count": 51,
      "outputs": [
        {
          "output_type": "stream",
          "name": "stdout",
          "text": [
            "alloa\n",
            "@llo@\n"
          ]
        }
      ]
    },
    {
      "cell_type": "markdown",
      "source": [
        "#####**Question 18 : Extraire première lettre**\n",
        "- Objectif : afficher la première lettre d’un mot.\n",
        "\n",
        "- Étapes : mot=input(...); print(mot[0]).\n",
        "\n",
        "- Indice : indices commencent à 0.\n",
        "\n",
        "- Attendu : “Python” → P"
      ],
      "metadata": {
        "id": "SQYOUFEDcznt"
      }
    },
    {
      "cell_type": "code",
      "source": [
        "mot=input(\"\"); print(mot[0])"
      ],
      "metadata": {
        "colab": {
          "base_uri": "https://localhost:8080/"
        },
        "id": "DAe-kZmpc8El",
        "outputId": "d09a4401-6358-4d45-d043-7413a28298ff"
      },
      "execution_count": 31,
      "outputs": [
        {
          "output_type": "stream",
          "name": "stdout",
          "text": [
            "Will\n",
            "W\n"
          ]
        }
      ]
    },
    {
      "cell_type": "markdown",
      "source": [
        "#####**Question 19 : Dernière lettre**\n",
        "Objectif : afficher la dernière lettre.\n",
        "\n",
        "- Étapes : print(mot[-1]).\n",
        "\n",
        "- Indice : -1 = dernier.\n",
        "\n",
        "- Attendu : “chat” → t"
      ],
      "metadata": {
        "id": "sQbz5MT-dX6U"
      }
    },
    {
      "cell_type": "code",
      "source": [
        "mot=input(\"\"); print(mot[-1])"
      ],
      "metadata": {
        "colab": {
          "base_uri": "https://localhost:8080/"
        },
        "id": "RBHgOLy1dgNa",
        "outputId": "23899ca0-b697-428d-b8e1-5c137bd5fa58"
      },
      "execution_count": 45,
      "outputs": [
        {
          "output_type": "stream",
          "name": "stdout",
          "text": [
            "Crocodile\n",
            "e\n"
          ]
        }
      ]
    },
    {
      "cell_type": "markdown",
      "source": [
        "#####**Question 20 : Échanger prénom/nom**\n",
        "- Objectif : lire prénom et nom, afficher “Nom Prénom”.\n",
        "\n",
        "- Étapes : deux input; print(nom, prenom).\n",
        "\n",
        "- Indice : l’ordre compte.\n",
        "\n",
        "- Attendu : Dupont Sara"
      ],
      "metadata": {
        "id": "ELuCpeUGd410"
      }
    },
    {
      "cell_type": "code",
      "source": [
        "# Double input pour ensuite print inversement le nom/prenom\n",
        "\n",
        "input(\"Prenom: \"); input(\"Nom: \");\n",
        "print(nom,prenom)"
      ],
      "metadata": {
        "colab": {
          "base_uri": "https://localhost:8080/"
        },
        "id": "DYBFmh4Md_XD",
        "outputId": "25cdc9ee-de10-435c-d10f-ca0c0d73a9bf"
      },
      "execution_count": 52,
      "outputs": [
        {
          "output_type": "stream",
          "name": "stdout",
          "text": [
            "Prenom: William\n",
            "Nom: Desjardins\n",
            "Desjardins William\n"
          ]
        }
      ]
    }
  ]
}