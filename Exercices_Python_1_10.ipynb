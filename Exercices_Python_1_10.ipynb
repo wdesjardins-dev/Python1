{
  "nbformat": 4,
  "nbformat_minor": 0,
  "metadata": {
    "colab": {
      "provenance": [],
      "authorship_tag": "ABX9TyP9gIeBq4LZmyP9KSyzy8E9",
      "include_colab_link": true
    },
    "kernelspec": {
      "name": "python3",
      "display_name": "Python 3"
    },
    "language_info": {
      "name": "python"
    }
  },
  "cells": [
    {
      "cell_type": "markdown",
      "metadata": {
        "id": "view-in-github",
        "colab_type": "text"
      },
      "source": [
        "<a href=\"https://colab.research.google.com/github/wdesjardins-dev/Python1/blob/main/Exercices_Python_1_10.ipynb\" target=\"_parent\"><img src=\"https://colab.research.google.com/assets/colab-badge.svg\" alt=\"Open In Colab\"/></a>"
      ]
    },
    {
      "cell_type": "markdown",
      "source": [
        "#####**Question 1 : Objectif : afficher un texte.**\n",
        "Étapes : ouvre un notebook → écris print(\"Bonjour\") → exécute.\n",
        "\n",
        "Indice : print(...) affiche à l’écran.\n",
        "\n",
        "Exemple attendu : Bonjour"
      ],
      "metadata": {
        "id": "UNTMsiy4ZelX"
      }
    },
    {
      "cell_type": "code",
      "source": [
        "print(\"Bonjour\")"
      ],
      "metadata": {
        "colab": {
          "base_uri": "https://localhost:8080/"
        },
        "id": "uFAIpIE3SbBa",
        "outputId": "caa7749f-c634-4825-a581-67af1740c009"
      },
      "execution_count": 12,
      "outputs": [
        {
          "output_type": "stream",
          "name": "stdout",
          "text": [
            "Bonjour\n"
          ]
        }
      ]
    },
    {
      "cell_type": "markdown",
      "source": [
        "#####**Question 2 : Afficher ton prénom**\n",
        "Objectif : afficher ton prénom.\n",
        "\n",
        "Étapes : remplace “Alice” par ton prénom.\n",
        "\n",
        "Indice : guillemets pour du texte.\n",
        "\n",
        "Exemple : print(\"Haythem\")"
      ],
      "metadata": {
        "id": "w8uMu7BoZnbu"
      }
    },
    {
      "cell_type": "code",
      "source": [
        "print(\"William Desjardins\")"
      ],
      "metadata": {
        "colab": {
          "base_uri": "https://localhost:8080/"
        },
        "id": "K7Rd7kJqZRim",
        "outputId": "1796b25b-b6a5-47dd-f39e-a13a00dd8b72"
      },
      "execution_count": 13,
      "outputs": [
        {
          "output_type": "stream",
          "name": "stdout",
          "text": [
            "William Desjardins\n"
          ]
        }
      ]
    },
    {
      "cell_type": "markdown",
      "source": [
        "#####**Question 3 : Deux lignes d’affichage**\n",
        "Objectif : afficher deux lignes.\n",
        "\n",
        "Étapes : deux print(...) l’un sous l’autre.\n",
        "\n",
        "Indice : chaque print fait une nouvelle ligne.\n",
        "\n",
        "Exemple :\n",
        "Bonjour\n",
        "Python"
      ],
      "metadata": {
        "id": "OQ-vxzDXZ1Rd"
      }
    },
    {
      "cell_type": "code",
      "source": [
        "print(\"Bonjour\")\n",
        "print(\"William Desjardins\")"
      ],
      "metadata": {
        "colab": {
          "base_uri": "https://localhost:8080/"
        },
        "id": "1cp_90gSZ6oe",
        "outputId": "293d18b3-291a-4d80-b792-3c6e3d03550b"
      },
      "execution_count": 14,
      "outputs": [
        {
          "output_type": "stream",
          "name": "stdout",
          "text": [
            "Bonjour\n",
            "William Desjardins\n"
          ]
        }
      ]
    },
    {
      "cell_type": "markdown",
      "source": [
        "#####**Question 4 : Calcul simple**\n",
        "Objectif : afficher 2 + 3.\n",
        "\n",
        "Étapes : print(2 + 3).\n",
        "\n",
        "Indice : pas de guillemets pour un nombre.\n",
        "\n",
        "Attendu : 5"
      ],
      "metadata": {
        "id": "MvQD1Ip4aDhN"
      }
    },
    {
      "cell_type": "code",
      "source": [
        "print(2+3)"
      ],
      "metadata": {
        "colab": {
          "base_uri": "https://localhost:8080/"
        },
        "id": "xhfmstuTaT08",
        "outputId": "c1b3ee07-0b23-4d44-8413-1aba7e9648f4"
      },
      "execution_count": 15,
      "outputs": [
        {
          "output_type": "stream",
          "name": "stdout",
          "text": [
            "5\n"
          ]
        }
      ]
    },
    {
      "cell_type": "markdown",
      "source": [
        "#####**Question 5 : Texte + résultat**\n",
        "Objectif : afficher 2+3= puis le résultat.\n",
        "\n",
        "Étapes : print(\"2+3=\", 2+3).\n",
        "\n",
        "Indice : on peut passer plusieurs éléments à print.\n",
        "\n",
        "Attendu : 2+3= 5"
      ],
      "metadata": {
        "id": "B1obubXQa9Q0"
      }
    },
    {
      "cell_type": "code",
      "source": [
        "print(\"2+3=\", 2+3)"
      ],
      "metadata": {
        "colab": {
          "base_uri": "https://localhost:8080/"
        },
        "id": "17Wo8Fb6bDjT",
        "outputId": "3602cc21-7604-4898-8b6c-d1d633226df2"
      },
      "execution_count": 17,
      "outputs": [
        {
          "output_type": "stream",
          "name": "stdout",
          "text": [
            "2+3= 5\n"
          ]
        }
      ]
    },
    {
      "cell_type": "markdown",
      "source": [
        "#####**Question 6 : Variable nombre**\n",
        "Objectif : créer une variable x=7 et l’afficher.\n",
        "\n",
        "Étapes : x = 7 puis print(x).\n",
        "\n",
        "Indice : = assigne une valeur.\n",
        "\n",
        "Attendu : 7"
      ],
      "metadata": {
        "id": "Soi4Rx_zbSWL"
      }
    },
    {
      "cell_type": "code",
      "source": [
        "x = 7\n",
        "print(x)"
      ],
      "metadata": {
        "colab": {
          "base_uri": "https://localhost:8080/"
        },
        "id": "xxL4A3IebYga",
        "outputId": "69c2314c-a06d-4ec1-fdac-90be794c4c53"
      },
      "execution_count": 21,
      "outputs": [
        {
          "output_type": "stream",
          "name": "stdout",
          "text": [
            "7\n"
          ]
        }
      ]
    },
    {
      "cell_type": "markdown",
      "source": [
        "#####**Question 7 : Variable texte**\n",
        "Objectif : nom = \"Nadia\" puis afficher.\n",
        "\n",
        "Étapes : créer puis print(nom).\n",
        "\n",
        "Indice : guillemets pour le texte.\n",
        "\n",
        "Attendu : Nadia"
      ],
      "metadata": {
        "id": "wZaMsgxQbsiz"
      }
    },
    {
      "cell_type": "code",
      "source": [
        "nom = \"nadia\"\n",
        "print(nom)"
      ],
      "metadata": {
        "colab": {
          "base_uri": "https://localhost:8080/"
        },
        "id": "ZuBORTllbzNq",
        "outputId": "75506cff-86d4-4039-a2ad-188dea7ea7fc"
      },
      "execution_count": 26,
      "outputs": [
        {
          "output_type": "stream",
          "name": "stdout",
          "text": [
            "nadia\n"
          ]
        }
      ]
    },
    {
      "cell_type": "markdown",
      "source": [
        "#####**Question 8 : Addition avec variables**\n",
        "Objectif : a=4, b=6, afficher a+b.\n",
        "\n",
        "Étapes : créer, puis print(a+b).\n",
        "\n",
        "Indice : variables numériques s’additionnent.\n",
        "\n",
        "Attendu : 10"
      ],
      "metadata": {
        "id": "UkiEmV78cJ7K"
      }
    },
    {
      "cell_type": "code",
      "source": [
        "a = 4\n",
        "b = 6\n",
        "print(a+b)"
      ],
      "metadata": {
        "colab": {
          "base_uri": "https://localhost:8080/"
        },
        "id": "CFWBx8wDcO3Z",
        "outputId": "d9811524-8e60-423e-985a-5a500a4d3de7"
      },
      "execution_count": 27,
      "outputs": [
        {
          "output_type": "stream",
          "name": "stdout",
          "text": [
            "10\n"
          ]
        }
      ]
    },
    {
      "cell_type": "markdown",
      "source": [
        "#####**Question 9 : Lire un prénom (input)**\n",
        "Objectif : demander un prénom et l’afficher.\n",
        "\n",
        "Étapes : nom = input(\"Prénom: \"); print(\"Bonjour\", nom).\n",
        "Indice : input lit au clavier.\n",
        "\n",
        "Attendu : Bonjour Karim"
      ],
      "metadata": {
        "id": "Z9QTD8Y1cXSB"
      }
    },
    {
      "cell_type": "code",
      "source": [
        "nom = input(\"Prenom: \");\n",
        "print(\"Bonjour\", nom)"
      ],
      "metadata": {
        "colab": {
          "base_uri": "https://localhost:8080/"
        },
        "id": "1frJhWHycd75",
        "outputId": "47c2f0f6-221c-4a00-c291-264e856418b8"
      },
      "execution_count": 36,
      "outputs": [
        {
          "output_type": "stream",
          "name": "stdout",
          "text": [
            "Prenom: william\n",
            "Bonjour william\n"
          ]
        }
      ]
    },
    {
      "cell_type": "markdown",
      "source": [
        "#####**Question 10 : Somme de deux nombres (input)**\n",
        "Objectif : lire deux nombres et afficher la somme.\n",
        "\n",
        "Étapes : a = int(input(...)); b = int(input(...)); print(a+b).\n",
        "\n",
        "Indice : int(...) transforme en entier.\n",
        "\n",
        "Attendu : si 3 et 8 → 11"
      ],
      "metadata": {
        "id": "k2TXQ9JOdtFJ"
      }
    },
    {
      "cell_type": "code",
      "source": [
        "a = int(input(\"\"));\n",
        "print(\"+\");\n",
        "b = int(input(\"\"));\n",
        "print(\"=\"); (a+b)"
      ],
      "metadata": {
        "colab": {
          "base_uri": "https://localhost:8080/"
        },
        "id": "_2fSWtUIdyp3",
        "outputId": "402cbad7-3fb3-429a-b5ea-a13c8e82e4af"
      },
      "execution_count": 62,
      "outputs": [
        {
          "output_type": "stream",
          "name": "stdout",
          "text": [
            "5\n",
            "+\n",
            "6\n",
            "=\n"
          ]
        },
        {
          "output_type": "execute_result",
          "data": {
            "text/plain": [
              "11"
            ]
          },
          "metadata": {},
          "execution_count": 62
        }
      ]
    }
  ]
}